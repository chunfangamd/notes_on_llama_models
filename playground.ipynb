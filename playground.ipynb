{
 "cells": [
  {
   "cell_type": "code",
   "execution_count": 2,
   "metadata": {},
   "outputs": [],
   "source": [
    "import numpy as np"
   ]
  },
  {
   "cell_type": "code",
   "execution_count": 4,
   "metadata": {},
   "outputs": [
    {
     "data": {
      "text/plain": [
       "(515.9129499999999, 3.8323172425439838)"
      ]
     },
     "execution_count": 4,
     "metadata": {},
     "output_type": "execute_result"
    }
   ],
   "source": [
    "score_list = [\n",
    "524.511,\n",
    "521.088,\n",
    "521.552,\n",
    "519.314,\n",
    "520.810,\n",
    "517.272,\n",
    "519.410,\n",
    "516.279,\n",
    "515.130,\n",
    "513.168,\n",
    "514.673,\n",
    "513.668,\n",
    "513.733,\n",
    "512.982,\n",
    "510.794,\n",
    "513.014,\n",
    "512.354,\n",
    "514.043,\n",
    "513.895,\n",
    "510.569,\n",
    "]\n",
    "\n",
    "np.mean(score_list), np.std(score_list)"
   ]
  },
  {
   "cell_type": "code",
   "execution_count": 3,
   "metadata": {},
   "outputs": [
    {
     "name": "stdout",
     "output_type": "stream",
     "text": [
      "(2, 4, 1600, 1280) (2, 4, 1, 1280)\n",
      "(2, 4, 1600, 1280)\n"
     ]
    }
   ],
   "source": [
    "import numpy as np\n",
    "\n",
    "x = np.zeros((2, 4, 1600, 1280))\n",
    "out_pos_embed = np.ones((2, 4, 1, 1280))\n",
    "print(x.shape, out_pos_embed.shape)\n",
    "x = x + out_pos_embed\n",
    "print(x.shape)"
   ]
  },
  {
   "cell_type": "code",
   "execution_count": null,
   "metadata": {},
   "outputs": [],
   "source": []
  }
 ],
 "metadata": {
  "kernelspec": {
   "display_name": "tboard",
   "language": "python",
   "name": "python3"
  },
  "language_info": {
   "codemirror_mode": {
    "name": "ipython",
    "version": 3
   },
   "file_extension": ".py",
   "mimetype": "text/x-python",
   "name": "python",
   "nbconvert_exporter": "python",
   "pygments_lexer": "ipython3",
   "version": "3.10.0"
  }
 },
 "nbformat": 4,
 "nbformat_minor": 2
}
